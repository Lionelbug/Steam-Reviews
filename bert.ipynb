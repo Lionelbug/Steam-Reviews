{
 "cells": [
  {
   "cell_type": "code",
   "execution_count": 23,
   "id": "a5bb1d50-d6bd-47c8-ac8f-c4b914638803",
   "metadata": {},
   "outputs": [],
   "source": [
    "import pandas as pd\n",
    "import torch\n",
    "import torch.nn as nn\n",
    "from torch.utils.data import Dataset, DataLoader\n",
    "from transformers import CamembertTokenizer, CamembertModel\n",
    "from sklearn.metrics import confusion_matrix, classification_report\n",
    "import seaborn as sns\n",
    "import matplotlib.pyplot as plt\n",
    "from tqdm import tqdm\n",
    "import json"
   ]
  },
  {
   "cell_type": "code",
   "execution_count": 20,
   "id": "a62a2349-c1ae-4112-8ccc-309f1f87b174",
   "metadata": {},
   "outputs": [],
   "source": [
    "# enregistrer le modèle\n",
    "def save_model(model, path=\"model/bert.pt\"):\n",
    "    torch.save(model.state_dict(), path)\n",
    "    print(f\"Modèle enregistré dans {path}\")"
   ]
  },
  {
   "cell_type": "code",
   "execution_count": 18,
   "id": "670fa8f0-7206-40a4-8699-2dd66dbf08f0",
   "metadata": {},
   "outputs": [],
   "source": [
    "# charger le modèle\n",
    "def load_model(BERTClassifier, num_classes, path:str):\n",
    "    model = BERTClassifier(num_classes=num_classes)\n",
    "    model.load_state_dict(torch.load(path, map_location=DEVICE))\n",
    "    model.to(DEVICE)\n",
    "    model.eval()\n",
    "    print(f\"Modèle chargé depuis : {path}\")\n",
    "    return model"
   ]
  },
  {
   "cell_type": "code",
   "execution_count": 2,
   "id": "3ae31516-586e-4cda-8f32-6b3346eb2985",
   "metadata": {},
   "outputs": [],
   "source": [
    "# Hyperparamètres\n",
    "SEQ_LEN = 128\n",
    "BATCH_SIZE = 32\n",
    "EPOCHS = 4\n",
    "PRETRAINED_MODEL = \"camembert-base\"\n",
    "DEVICE = torch.device(\"cuda\" if torch.cuda.is_available() else \"cpu\")"
   ]
  },
  {
   "cell_type": "code",
   "execution_count": 3,
   "id": "98090a4c-cc86-4d66-9d98-b7e42882dfcd",
   "metadata": {},
   "outputs": [],
   "source": [
    "# Charger le fichier de mappage\n",
    "with open(\"label_mappings.json\", \"r\", encoding=\"utf-8\") as f:\n",
    "    mappings = json.load(f)\n",
    "label2Index = mappings[\"label2Index\"]\n",
    "index2label = {int(k): v for k, v in mappings[\"index2label\"].items()}"
   ]
  },
  {
   "cell_type": "code",
   "execution_count": 4,
   "id": "0e893a06-ad8b-4bd4-babe-d607233452d1",
   "metadata": {},
   "outputs": [],
   "source": [
    "df_train = pd.read_csv('train.csv')\n",
    "df_val = pd.read_csv('val.csv')\n",
    "df_test = pd.read_csv('test.csv')"
   ]
  },
  {
   "cell_type": "code",
   "execution_count": 5,
   "id": "89043f23-6174-4c5d-8540-de6bf2314943",
   "metadata": {},
   "outputs": [],
   "source": [
    "# Tokenizer\n",
    "tokenizer = CamembertTokenizer.from_pretrained(PRETRAINED_MODEL)"
   ]
  },
  {
   "cell_type": "code",
   "execution_count": 6,
   "id": "ba6d3a33-aa94-47ef-8c33-68ff6028024c",
   "metadata": {},
   "outputs": [],
   "source": [
    "# Dataset\n",
    "class BERTDataset(Dataset):\n",
    "    def __init__(self, df, tokenizer, seq_len):\n",
    "        self.texts = df['text'].tolist()\n",
    "        self.labels = df['labels'].tolist()\n",
    "        self.seq_len = seq_len\n",
    "        self.tokenizer = tokenizer\n",
    "\n",
    "    def __len__(self):\n",
    "        return len(self.texts)\n",
    "\n",
    "    def __getitem__(self, idx):\n",
    "        encoding = self.tokenizer(\n",
    "            self.texts[idx],\n",
    "            truncation=True,\n",
    "            padding='max_length',\n",
    "            max_length=self.seq_len,\n",
    "            return_tensors='pt'\n",
    "        )\n",
    "        return {\n",
    "            'input_ids': encoding['input_ids'].squeeze(0),\n",
    "            'attention_mask': encoding['attention_mask'].squeeze(0),\n",
    "            'labels': torch.tensor(self.labels[idx], dtype=torch.long)\n",
    "        }\n",
    "    "
   ]
  },
  {
   "cell_type": "code",
   "execution_count": 7,
   "id": "ed09fdf6-e4c4-4637-bc85-bc13d5fefc74",
   "metadata": {},
   "outputs": [],
   "source": [
    "# Créer Dataset et DataLoader\n",
    "train_dataset = BERTDataset(df_train, tokenizer, SEQ_LEN)\n",
    "val_dataset   = BERTDataset(df_val, tokenizer, SEQ_LEN)\n",
    "test_dataset  = BERTDataset(df_test, tokenizer, SEQ_LEN)\n",
    "\n",
    "train_loader = DataLoader(train_dataset, batch_size=BATCH_SIZE, shuffle=True)\n",
    "val_loader   = DataLoader(val_dataset, batch_size=BATCH_SIZE)\n",
    "test_loader  = DataLoader(test_dataset, batch_size=BATCH_SIZE)"
   ]
  },
  {
   "cell_type": "code",
   "execution_count": 8,
   "id": "89b1d353-26b9-414a-8608-56f1d4fd2884",
   "metadata": {},
   "outputs": [],
   "source": [
    "# BERT + Dropout + Linear\n",
    "class BERTClassifier(nn.Module):\n",
    "    def __init__(self, num_classes):\n",
    "        super().__init__()\n",
    "        self.bert = CamembertModel.from_pretrained(PRETRAINED_MODEL)\n",
    "        self.dropout = nn.Dropout(0.3)\n",
    "        self.classifier = nn.Linear(self.bert.config.hidden_size, num_classes)\n",
    "\n",
    "    def forward(self, input_ids, attention_mask):\n",
    "        outputs = self.bert(input_ids=input_ids, attention_mask=attention_mask)\n",
    "        cls_output = outputs.last_hidden_state[:, 0, :]  # Utiliser le vecteur du token [CLS]\n",
    "        x = self.dropout(cls_output)\n",
    "        logits = self.classifier(x)\n",
    "        return logits"
   ]
  },
  {
   "cell_type": "code",
   "execution_count": 9,
   "id": "6a44fc2e-9d74-49d5-bff3-f77ff9511458",
   "metadata": {},
   "outputs": [],
   "source": [
    "model = BERTClassifier(num_classes=len(label2Index)).to(DEVICE)"
   ]
  },
  {
   "cell_type": "code",
   "execution_count": 10,
   "id": "da8681a3-bd76-4c74-8ab1-f19613e06602",
   "metadata": {},
   "outputs": [],
   "source": [
    "# Entrênement\n",
    "def train(model, train_loader, val_loader, epochs, lr=1e-4):\n",
    "    criterion = nn.CrossEntropyLoss()\n",
    "    optimizer = torch.optim.Adam(model.parameters(), lr=lr)\n",
    "\n",
    "    model.to(DEVICE)\n",
    "\n",
    "    train_accs, val_accs = [], []  # Pour stocker les courbes\n",
    "\n",
    "    for epoch in range(epochs):\n",
    "        model.train()\n",
    "        total_loss, total_correct, total = 0, 0, 0\n",
    "\n",
    "        loop = tqdm(train_loader, desc=f\"Epoch {epoch+1}/{epochs}\")\n",
    "        for batch in loop:\n",
    "            input_ids = batch['input_ids'].to(DEVICE)\n",
    "            attention_mask = batch['attention_mask'].to(DEVICE)\n",
    "            labels = batch['labels'].to(DEVICE)\n",
    "\n",
    "            optimizer.zero_grad()\n",
    "            outputs = model(input_ids, attention_mask)\n",
    "            loss = criterion(outputs, labels)\n",
    "            loss.backward()\n",
    "            optimizer.step()\n",
    "\n",
    "            preds = torch.argmax(outputs, dim=1)\n",
    "            correct = (preds == labels).sum().item()\n",
    "\n",
    "            total_loss += loss.item()\n",
    "            total_correct += correct\n",
    "            total += labels.size(0)\n",
    "\n",
    "            loop.set_postfix({\n",
    "                \"Batch Loss\": f\"{loss.item():.4f}\",\n",
    "                \"Batch Acc\": f\"{correct / labels.size(0):.4f}\"\n",
    "            })\n",
    "\n",
    "        # Entraînement terminé pour cette époque\n",
    "        train_acc = total_correct / total\n",
    "        train_accs.append(train_acc)\n",
    "\n",
    "        # Évaluation\n",
    "        model.eval()\n",
    "        val_correct, val_total = 0, 0\n",
    "        with torch.no_grad():\n",
    "            for batch in val_loader:\n",
    "                input_ids = batch['input_ids'].to(DEVICE)\n",
    "                attention_mask = batch['attention_mask'].to(DEVICE)\n",
    "                labels = batch['labels'].to(DEVICE)\n",
    "\n",
    "                outputs = model(input_ids, attention_mask)\n",
    "                preds = torch.argmax(outputs, dim=1)\n",
    "                val_correct += (preds == labels).sum().item()\n",
    "                val_total += labels.size(0)\n",
    "\n",
    "        val_acc = val_correct / val_total\n",
    "        val_accs.append(val_acc)\n",
    "        print(f\"Epoch {epoch+1} Summary — Loss: {total_loss:.4f}, Train Acc: {train_acc:.4f}, Val Acc: {val_acc:.4f}\")\n",
    "\n",
    "    return train_accs, val_accs"
   ]
  },
  {
   "cell_type": "code",
   "execution_count": 11,
   "id": "e96c0840-79ec-4c5a-ab18-fbd8b77759cc",
   "metadata": {},
   "outputs": [
    {
     "name": "stderr",
     "output_type": "stream",
     "text": [
      "Epoch 1/4: 100%|█| 250/250 [24:37<00:00,  5.91s/it, Batch Loss=0.0947, Batch Acc\n"
     ]
    },
    {
     "name": "stdout",
     "output_type": "stream",
     "text": [
      "Epoch 1 Summary — Loss: 62.1368, Train Acc: 0.9044, Val Acc: 0.9790\n"
     ]
    },
    {
     "name": "stderr",
     "output_type": "stream",
     "text": [
      "Epoch 2/4: 100%|█| 250/250 [23:26<00:00,  5.62s/it, Batch Loss=0.0953, Batch Acc\n"
     ]
    },
    {
     "name": "stdout",
     "output_type": "stream",
     "text": [
      "Epoch 2 Summary — Loss: 33.2209, Train Acc: 0.9548, Val Acc: 0.9720\n"
     ]
    },
    {
     "name": "stderr",
     "output_type": "stream",
     "text": [
      "Epoch 3/4: 100%|█| 250/250 [23:42<00:00,  5.69s/it, Batch Loss=0.1105, Batch Acc\n"
     ]
    },
    {
     "name": "stdout",
     "output_type": "stream",
     "text": [
      "Epoch 3 Summary — Loss: 36.8837, Train Acc: 0.9355, Val Acc: 0.9870\n"
     ]
    },
    {
     "name": "stderr",
     "output_type": "stream",
     "text": [
      "Epoch 4/4: 100%|█| 250/250 [23:32<00:00,  5.65s/it, Batch Loss=0.0708, Batch Acc\n"
     ]
    },
    {
     "name": "stdout",
     "output_type": "stream",
     "text": [
      "Epoch 4 Summary — Loss: 29.2708, Train Acc: 0.9491, Val Acc: 0.9860\n"
     ]
    }
   ],
   "source": [
    "train_accs, val_accs = train(model, train_loader, val_loader, EPOCHS)"
   ]
  },
  {
   "cell_type": "code",
   "execution_count": 12,
   "id": "bf154547-44a8-437a-9c8f-42331e71d19c",
   "metadata": {},
   "outputs": [],
   "source": [
    "# plot\n",
    "def plot_graph(train, val, title):\n",
    "    plt.plot(train, label='Train')\n",
    "    plt.plot(val, label='Validation')\n",
    "    plt.title(title)\n",
    "    plt.xlabel(\"Epoch\")\n",
    "    plt.ylabel(\"Accuracy\")\n",
    "    plt.legend()\n",
    "    plt.show()"
   ]
  },
  {
   "cell_type": "code",
   "execution_count": 13,
   "id": "004c8190-6256-4b06-9d78-91cb287ad095",
   "metadata": {},
   "outputs": [
    {
     "data": {
      "image/png": "[encoded data removed]",
      "text/plain": [
       "<Figure size 640x480 with 1 Axes>"
      ]
     },
     "metadata": {},
     "output_type": "display_data"
    }
   ],
   "source": [
    "plot_graph(train_accs, val_accs, \"Accuracy\")"
   ]
  },
  {
   "cell_type": "code",
   "execution_count": 21,
   "id": "af7606dc-c6f0-477b-8ab8-a0c98bafc171",
   "metadata": {},
   "outputs": [
    {
     "name": "stdout",
     "output_type": "stream",
     "text": [
      "Modèle enregistré dans model/bert.pt\n"
     ]
    }
   ],
   "source": [
    "save_model(model)"
   ]
  },
  {
   "cell_type": "code",
   "execution_count": 26,
   "id": "1ea17b7e-9dd2-48e0-915a-2d176c44ef98",
   "metadata": {},
   "outputs": [],
   "source": [
    "# Évaluation\n",
    "def plot_confusion_matrix(y_true, y_pred, labels, title=\"Confusion Matrix\"):\n",
    "    cm = confusion_matrix(y_true, y_pred, labels=labels)\n",
    "    \n",
    "    plt.figure(figsize=(6, 5))\n",
    "    sns.heatmap(cm, annot=True, fmt='d', cmap='Blues', \n",
    "                xticklabels=labels, yticklabels=labels)\n",
    "    plt.title(title)\n",
    "    plt.xlabel(\"Prédictions\")\n",
    "    plt.ylabel(\"Véritables\")\n",
    "    plt.tight_layout()\n",
    "    plt.show()\n",
    "\n",
    "def evaluate(model, loader):\n",
    "    model.eval()\n",
    "    y_true, y_pred = [], []\n",
    "    with torch.no_grad():\n",
    "        for batch in loader:\n",
    "            input_ids = batch['input_ids'].to(DEVICE)\n",
    "            attention_mask = batch['attention_mask'].to(DEVICE)\n",
    "            labels = batch['labels'].to(DEVICE)\n",
    "\n",
    "            outputs = model(input_ids, attention_mask)\n",
    "            preds = torch.argmax(outputs, dim=1)\n",
    "\n",
    "            y_true.extend(labels.cpu().tolist())\n",
    "            y_pred.extend(preds.cpu().tolist())\n",
    "    \n",
    "    # Mapper les indices aux noms des étiquettes\n",
    "    y_true = [index2label[i] for i in y_true]\n",
    "    y_pred = [index2label[i] for i in y_pred]\n",
    "    labels = list(label2Index.keys()) \n",
    "    plot_confusion_matrix(y_true, y_pred, labels)\n",
    "    print(\"\\nClassification Report:\\n\", classification_report(y_true, y_pred))\n",
    "\n",
    "    return y_true, y_pred"
   ]
  },
  {
   "cell_type": "code",
   "execution_count": 27,
   "id": "8894c5a6-e5e2-4c16-8fd8-fc46a95e526c",
   "metadata": {},
   "outputs": [
    {
     "data": {
      "image/png": "[encoded data removed]",
      "text/plain": [
       "<Figure size 600x500 with 2 Axes>"
      ]
     },
     "metadata": {},
     "output_type": "display_data"
    },
    {
     "name": "stdout",
     "output_type": "stream",
     "text": [
      "\n",
      "Classification Report:\n",
      "                 precision    recall  f1-score   support\n",
      "\n",
      "not recommende       0.98      0.98      0.98       386\n",
      "    recommende       0.99      0.99      0.99       613\n",
      "\n",
      "      accuracy                           0.98       999\n",
      "     macro avg       0.98      0.98      0.98       999\n",
      "  weighted avg       0.98      0.98      0.98       999\n",
      "\n"
     ]
    }
   ],
   "source": [
    "y_true, y_pred = evaluate(model, test_loader)"
   ]
  }
 ],
 "metadata": {
  "kernelspec": {
   "display_name": "Python 3 (ipykernel)",
   "language": "python",
   "name": "python3"
  },
  "language_info": {
   "codemirror_mode": {
    "name": "ipython",
    "version": 3
   },
   "file_extension": ".py",
   "mimetype": "text/x-python",
   "name": "python",
   "nbconvert_exporter": "python",
   "pygments_lexer": "ipython3",
   "version": "3.12.9"
  }
 },
 "nbformat": 4,
 "nbformat_minor": 5
}
